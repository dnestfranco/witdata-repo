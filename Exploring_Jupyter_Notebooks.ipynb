{
 "cells": [
  {
   "cell_type": "markdown",
   "metadata": {},
   "source": [
    "# Using A Jupyter Notebook"
   ]
  },
  {
   "cell_type": "markdown",
   "metadata": {},
   "source": [
    "A jupyter notebook is an easier way of organizing our information. We can write and code in __cells__, that help us organize things better."
   ]
  },
  {
   "cell_type": "code",
   "execution_count": 24,
   "metadata": {},
   "outputs": [
    {
     "name": "stdout",
     "output_type": "stream",
     "text": [
      "Jenny\n"
     ]
    }
   ],
   "source": [
    "print(\"Jenny\")"
   ]
  },
  {
   "cell_type": "code",
   "execution_count": 25,
   "metadata": {},
   "outputs": [
    {
     "name": "stdout",
     "output_type": "stream",
     "text": [
      "Henny\n"
     ]
    }
   ],
   "source": [
    "name = \"Henny\"\n",
    "print(name)"
   ]
  },
  {
   "cell_type": "markdown",
   "metadata": {},
   "source": [
    "Each cell works as its own little code space, and it remembers what we ran in previous cells. We can code just as normally as we would in the a regular shell."
   ]
  },
  {
   "cell_type": "code",
   "execution_count": 29,
   "metadata": {},
   "outputs": [
    {
     "name": "stdout",
     "output_type": "stream",
     "text": [
      "Go get some food\n"
     ]
    }
   ],
   "source": [
    "am_hungry = True\n",
    "\n",
    "if am_hungry:\n",
    "    print(\"Go get some food!\")\n",
    "else:\n",
    "    print(\":)\")"
   ]
  },
  {
   "cell_type": "markdown",
   "metadata": {},
   "source": [
    "We can even do more of the complicated things, such as create functions, and use them in future cells."
   ]
  },
  {
   "cell_type": "code",
   "execution_count": 27,
   "metadata": {},
   "outputs": [],
   "source": [
    "def print_name(name, amount):\n",
    "    for x in range(amount):\n",
    "        print(name)"
   ]
  },
  {
   "cell_type": "code",
   "execution_count": 28,
   "metadata": {},
   "outputs": [
    {
     "name": "stdout",
     "output_type": "stream",
     "text": [
      "Oranges\n",
      "Oranges\n",
      "Oranges\n",
      "Oranges\n"
     ]
    }
   ],
   "source": [
    "print_name(\"Oranges\", 4)"
   ]
  },
  {
   "cell_type": "code",
   "execution_count": 29,
   "metadata": {},
   "outputs": [
    {
     "name": "stdout",
     "output_type": "stream",
     "text": [
      "Apple\n",
      "Apple\n",
      "Apple\n",
      "Apple\n",
      "Apple\n",
      "Apple\n",
      "Apple\n",
      "Apple\n",
      "Apple\n",
      "Apple\n"
     ]
    }
   ],
   "source": [
    "print_name(\"Apple\", 10)"
   ]
  },
  {
   "cell_type": "markdown",
   "metadata": {},
   "source": [
    "# Plots with Matplotlib"
   ]
  },
  {
   "cell_type": "markdown",
   "metadata": {},
   "source": [
    "The real magic of Jupyter Notebooks is that it allows us to organize our content and __visualize__ information in a very nice way.\n",
    "\n",
    "<span style=\"color:red\">Run these libraries each time at the start, or else the other code won't work!</span>."
   ]
  },
  {
   "cell_type": "code",
   "execution_count": 17,
   "metadata": {},
   "outputs": [],
   "source": [
    "#some of the most important libraries when it comes to data visualization\n",
    "import pandas as pd\n",
    "import numpy as np\n",
    "import matplotlib.pyplot as plt"
   ]
  },
  {
   "cell_type": "code",
   "execution_count": 18,
   "metadata": {},
   "outputs": [
    {
     "name": "stdout",
     "output_type": "stream",
     "text": [
      "[-10.  -9.  -8.  -7.  -6.  -5.  -4.  -3.  -2.  -1.   0.   1.   2.   3.\n",
      "   4.   5.   6.   7.   8.   9.]\n"
     ]
    }
   ],
   "source": [
    "x = np.linspace(-10, 9, 20) #creates a list of 20 numbers, evenly across -10 and 9; similar to range()\n",
    "print(x) #note that they will be boolean values"
   ]
  },
  {
   "cell_type": "code",
   "execution_count": 19,
   "metadata": {},
   "outputs": [
    {
     "name": "stdout",
     "output_type": "stream",
     "text": [
      "[100.  81.  64.  49.  36.  25.  16.   9.   4.   1.   0.   1.   4.   9.\n",
      "  16.  25.  36.  49.  64.  81.]\n"
     ]
    }
   ],
   "source": [
    "y = x ** 2 #we are going to square all numbers stored in x\n",
    "print(y)"
   ]
  },
  {
   "cell_type": "markdown",
   "metadata": {},
   "source": [
    "## Creating a Scatter Plot"
   ]
  },
  {
   "cell_type": "markdown",
   "metadata": {},
   "source": [
    "We can go ahead and plot this in an x-y plane, also known as a __scatter plot__.\n",
    "\n",
    "The first argument is the domain (x-axis data), second argument is the range (y-axis data), and the third argument 'o' is the point style"
   ]
  },
  {
   "cell_type": "code",
   "execution_count": 20,
   "metadata": {},
   "outputs": [
    {
     "data": {
      "text/plain": [
       "[<matplotlib.lines.Line2D at 0x7fd0bee8fcf8>]"
      ]
     },
     "execution_count": 20,
     "metadata": {},
     "output_type": "execute_result"
    },
    {
     "data": {
      "image/png": "[encoded data removed]",
      "text/plain": [
       "<Figure size 432x288 with 1 Axes>"
      ]
     },
     "metadata": {
      "needs_background": "light"
     },
     "output_type": "display_data"
    }
   ],
   "source": [
    "plt.plot(x, y, 'o')"
   ]
  },
  {
   "cell_type": "code",
   "execution_count": 21,
   "metadata": {},
   "outputs": [
    {
     "data": {
      "image/png": "[encoded data removed]",
      "text/plain": [
       "<Figure size 432x288 with 1 Axes>"
      ]
     },
     "metadata": {
      "needs_background": "light"
     },
     "output_type": "display_data"
    }
   ],
   "source": [
    "#lets change the point style, by chaning the third argument to 'b'\n",
    "plt.plot(x, y, 'b')\n",
    "\n",
    "#and let's go ahead and add labels to our chart\n",
    "plt.xlabel('X axis')\n",
    "plt.ylabel('Y axis')\n",
    "plt.title(\"Squared Function\")\n",
    "plt.show()"
   ]
  },
  {
   "cell_type": "code",
   "execution_count": 22,
   "metadata": {},
   "outputs": [
    {
     "data": {
      "image/png": "[encoded data removed]",
      "text/plain": [
       "<Figure size 432x288 with 1 Axes>"
      ]
     },
     "metadata": {
      "needs_background": "light"
     },
     "output_type": "display_data"
    }
   ],
   "source": [
    "#now let's do a cubed function\n",
    "z = x ** 3\n",
    "\n",
    "\n",
    "plt.plot(x, z, 'b')\n",
    "plt.xlabel('X axis')\n",
    "plt.ylabel('Y axis')\n",
    "plt.title(\"Cubed Function\")\n",
    "plt.show()"
   ]
  },
  {
   "cell_type": "markdown",
   "metadata": {},
   "source": [
    "We can also display our plots together, side by side."
   ]
  },
  {
   "cell_type": "code",
   "execution_count": 23,
   "metadata": {},
   "outputs": [
    {
     "data": {
      "text/plain": [
       "[<matplotlib.lines.Line2D at 0x7fd0bed4b550>]"
      ]
     },
     "execution_count": 23,
     "metadata": {},
     "output_type": "execute_result"
    },
    {
     "data": {
      "image/png": "[encoded data removed]",
      "text/plain": [
       "<Figure size 432x288 with 2 Axes>"
      ]
     },
     "metadata": {
      "needs_background": "light"
     },
     "output_type": "display_data"
    }
   ],
   "source": [
    "plt.subplot(1, 2, 1) #first two arguments rows and columns: 1 row, 2 cols; and third argument is position\n",
    "plt.plot(x, y, 'b*-')\n",
    "plt.subplot(1, 2, 2) #putting the next plot\n",
    "plt.plot(x, z, 'y--')"
   ]
  },
  {
   "cell_type": "markdown",
   "metadata": {},
   "source": [
    "## Importing Data with Pandas"
   ]
  },
  {
   "cell_type": "markdown",
   "metadata": {},
   "source": [
    "Let's create some data. Let's head over [here](https://docs.google.com/spreadsheets/d/1T6iFHJfgRzr6hPxbVjDznmQLQEuoL1j-14vpxJpf1aA/edit?usp=sharing). You should make your own copy, so you can follow along and learn. Once done, download the spreadsheet as a _csv_."
   ]
  },
  {
   "cell_type": "markdown",
   "metadata": {},
   "source": [
    "At this point, we will be using the __pandas__ library to work with a __dataset__. Upload the csv to our current directory first."
   ]
  },
  {
   "cell_type": "code",
   "execution_count": 5,
   "metadata": {},
   "outputs": [
    {
     "data": {
      "text/html": [
       "<div>\n",
       "<style scoped>\n",
       "    .dataframe tbody tr th:only-of-type {\n",
       "        vertical-align: middle;\n",
       "    }\n",
       "\n",
       "    .dataframe tbody tr th {\n",
       "        vertical-align: top;\n",
       "    }\n",
       "\n",
       "    .dataframe thead th {\n",
       "        text-align: right;\n",
       "    }\n",
       "</style>\n",
       "<table border=\"1\" class=\"dataframe\">\n",
       "  <thead>\n",
       "    <tr style=\"text-align: right;\">\n",
       "      <th></th>\n",
       "      <th>Hours_of_Sleep</th>\n",
       "      <th>Favorite_Color</th>\n",
       "    </tr>\n",
       "  </thead>\n",
       "  <tbody>\n",
       "    <tr>\n",
       "      <th>0</th>\n",
       "      <td>9</td>\n",
       "      <td>Red</td>\n",
       "    </tr>\n",
       "    <tr>\n",
       "      <th>1</th>\n",
       "      <td>6</td>\n",
       "      <td>Yellow</td>\n",
       "    </tr>\n",
       "    <tr>\n",
       "      <th>2</th>\n",
       "      <td>10</td>\n",
       "      <td>Purple</td>\n",
       "    </tr>\n",
       "    <tr>\n",
       "      <th>3</th>\n",
       "      <td>8</td>\n",
       "      <td>Red</td>\n",
       "    </tr>\n",
       "    <tr>\n",
       "      <th>4</th>\n",
       "      <td>6</td>\n",
       "      <td>Blue</td>\n",
       "    </tr>\n",
       "  </tbody>\n",
       "</table>\n",
       "</div>"
      ],
      "text/plain": [
       "   Hours_of_Sleep Favorite_Color\n",
       "0               9            Red\n",
       "1               6         Yellow\n",
       "2              10         Purple\n",
       "3               8            Red\n",
       "4               6           Blue"
      ]
     },
     "execution_count": 5,
     "metadata": {},
     "output_type": "execute_result"
    }
   ],
   "source": [
    "data = pd.read_csv('student_data.csv') #read a csv file from our current directory\n",
    "data.head() #take a peek into the dataset"
   ]
  },
  {
   "cell_type": "markdown",
   "metadata": {},
   "source": [
    "Now that we have imported the data into Jupyter, we want to go ahead and isolate each column of information. First we will isolate the __sleep__ data and plot it using a __histogram__. Then we will isolate the __color__ data and plot it using a __barplot__."
   ]
  },
  {
   "cell_type": "markdown",
   "metadata": {},
   "source": [
    "## Creating a Histogram"
   ]
  },
  {
   "cell_type": "markdown",
   "metadata": {},
   "source": [
    "A histogram is a chart of bars that shows us how __numeric__ data is distributed. The reason we are using a histogram is because the sleep data is all numbers."
   ]
  },
  {
   "cell_type": "code",
   "execution_count": 7,
   "metadata": {},
   "outputs": [
    {
     "name": "stdout",
     "output_type": "stream",
     "text": [
      "[ 9  6 10  8  6  5  5  7  6  7  8  8  8  7  4  7  8  9  8  6  5  8  6  8\n",
      "  6  7  7  6]\n"
     ]
    }
   ],
   "source": [
    "#let's extract the column values directly, and store in variables\n",
    "sleep = data['Hours_of_Sleep'].values\n",
    "\n",
    "#let's look at the list of values\n",
    "print(sleep)"
   ]
  },
  {
   "cell_type": "code",
   "execution_count": 11,
   "metadata": {},
   "outputs": [
    {
     "name": "stdout",
     "output_type": "stream",
     "text": [
      "[ 4  5  6  7  8  9 10 11]\n"
     ]
    }
   ],
   "source": [
    "bins = np.arange(4, 12) #this will create a list of numbers from 4 to 12, which will serve as our histogram domain\n",
    "print(bins) #we are creating these bins to make sure all the data is represented evenly, from the smallest to largest value"
   ]
  },
  {
   "cell_type": "code",
   "execution_count": 14,
   "metadata": {},
   "outputs": [
    {
     "data": {
      "image/png": "[encoded data removed]",
      "text/plain": [
       "<Figure size 432x288 with 1 Axes>"
      ]
     },
     "metadata": {
      "needs_background": "light"
     },
     "output_type": "display_data"
    }
   ],
   "source": [
    "plt.hist(sleep, bins, histtype='bar', rwidth=0.9)\n",
    "\n",
    "plt.title(\"Sleep Hours in AHS Period 1 Engineering\")\n",
    "plt.xlabel(\"Hours Slept\")\n",
    "plt.ylabel(\"Count\")\n",
    "plt.show()"
   ]
  },
  {
   "cell_type": "markdown",
   "metadata": {},
   "source": [
    "# Create a Barplot"
   ]
  },
  {
   "cell_type": "markdown",
   "metadata": {},
   "source": [
    "A barplot is a chart of bars that shows us how __categorical__ data is distributed. Visually, a histogram and barplots look very similar (a chart of bars). The differences lie in how python handles the different data types: numeric or non-numeric."
   ]
  },
  {
   "cell_type": "code",
   "execution_count": 40,
   "metadata": {},
   "outputs": [
    {
     "name": "stdout",
     "output_type": "stream",
     "text": [
      "['Red' 'Yellow' 'Purple' 'Red' 'Blue' 'Blue' 'Blue' 'Red' 'Pink' 'Black'\n",
      " 'Red' 'Orange' 'Red' 'Red' 'Black' 'Blue' 'Gray' 'Green' 'Blue' 'Red'\n",
      " 'Black' 'Yellow' 'Purple' 'Blue' 'Green' 'Blue' 'Black' 'Blue']\n"
     ]
    }
   ],
   "source": [
    "# Notice that if we extract the color data like we did with sleep, we will only get string values\n",
    "color = data['Favorite_Color'].values\n",
    "print(color)"
   ]
  },
  {
   "cell_type": "markdown",
   "metadata": {},
   "source": [
    "Thankfully the pandas library has a built-in function called __value_counts()__ that will help us count the amount of times a string value is observed in the data."
   ]
  },
  {
   "cell_type": "code",
   "execution_count": 41,
   "metadata": {},
   "outputs": [
    {
     "name": "stdout",
     "output_type": "stream",
     "text": [
      "Blue      8\n",
      "Red       7\n",
      "Black     4\n",
      "Green     2\n",
      "Yellow    2\n",
      "Purple    2\n",
      "Orange    1\n",
      "Gray      1\n",
      "Pink      1\n",
      "Name: Favorite_Color, dtype: int64\n"
     ]
    }
   ],
   "source": [
    "color = data['Favorite_Color'].value_counts()\n",
    "print(color)"
   ]
  },
  {
   "cell_type": "markdown",
   "metadata": {},
   "source": [
    "From here, we can simply extract the __category labels__ (the colors) and the amount of times observed."
   ]
  },
  {
   "cell_type": "code",
   "execution_count": 42,
   "metadata": {},
   "outputs": [
    {
     "name": "stdout",
     "output_type": "stream",
     "text": [
      "Index(['Blue', 'Red', 'Black', 'Green', 'Yellow', 'Purple', 'Orange', 'Gray',\n",
      "       'Pink'],\n",
      "      dtype='object')\n",
      "[8 7 4 2 2 2 1 1 1]\n"
     ]
    }
   ],
   "source": [
    "print(color.index) #extract labels\n",
    "print(color.values) #extract times observed"
   ]
  },
  {
   "cell_type": "markdown",
   "metadata": {},
   "source": [
    "That's all the info we need! We can now plot our barplot with the data."
   ]
  },
  {
   "cell_type": "code",
   "execution_count": 60,
   "metadata": {},
   "outputs": [
    {
     "data": {
      "image/png": "[encoded data removed]",
      "text/plain": [
       "<Figure size 432x288 with 1 Axes>"
      ]
     },
     "metadata": {
      "needs_background": "light"
     },
     "output_type": "display_data"
    }
   ],
   "source": [
    "plt.bar(color.index, color.values) #First argument is the labels, second argument is the category observed values\n",
    "\n",
    "plt.title(\"Favorite Colors in AHS Period 1 Engineering\")\n",
    "plt.xlabel(\"Colors\")\n",
    "plt.ylabel(\"Count\")\n",
    "plt.show()"
   ]
  },
  {
   "cell_type": "markdown",
   "metadata": {},
   "source": [
    "Sometimes our labels have long names, so it's best to orient the chart horizontally so the labels fit better."
   ]
  },
  {
   "cell_type": "code",
   "execution_count": 59,
   "metadata": {},
   "outputs": [
    {
     "data": {
      "image/png": "[encoded data removed]",
      "text/plain": [
       "<Figure size 432x288 with 1 Axes>"
      ]
     },
     "metadata": {
      "needs_background": "light"
     },
     "output_type": "display_data"
    }
   ],
   "source": [
    "plt.barh(color.index, color.values) #doing function 'barh' instead of 'bar'\n",
    "\n",
    "plt.title(\"Favorite Colors in AHS Period 1 Engineering\")\n",
    "#make sure to adjust the x and y labels appropriately\n",
    "plt.xlabel(\"Count\")\n",
    "plt.ylabel(\"Color\")\n",
    "plt.show()"
   ]
  }
 ],
 "metadata": {
  "kernelspec": {
   "display_name": "Python 3",
   "language": "python",
   "name": "python3"
  },
  "language_info": {
   "codemirror_mode": {
    "name": "ipython",
    "version": 3
   },
   "file_extension": ".py",
   "mimetype": "text/x-python",
   "name": "python",
   "nbconvert_exporter": "python",
   "pygments_lexer": "ipython3",
   "version": "3.7.3"
  }
 },
 "nbformat": 4,
 "nbformat_minor": 4
}
