{
 "cells": [
  {
   "cell_type": "markdown",
   "metadata": {},
   "source": [
    "# Creating Data with Pandas"
   ]
  },
  {
   "cell_type": "markdown",
   "metadata": {},
   "source": [
    "Last time we created data using a Google [spreadsheet](https://docs.google.com/spreadsheets/d/1T6iFHJfgRzr6hPxbVjDznmQLQEuoL1j-14vpxJpf1aA/edit?usp=sharing), downloading it as a CSV file, and then uploading it our Jupyter home directory. This time, we will create data from within Jupyter Notebooks.\n",
    "\n",
    "<span style=\"color:red\">Run these libraries each time at the start, or else the other code won't work!</span>."
   ]
  },
  {
   "cell_type": "code",
   "execution_count": 2,
   "metadata": {},
   "outputs": [],
   "source": [
    "#some of the most important libraries when it comes to data visualization\n",
    "import pandas as pd\n",
    "import numpy as np\n",
    "import matplotlib.pyplot as plt"
   ]
  },
  {
   "cell_type": "markdown",
   "metadata": {},
   "source": [
    "We use a __python dictionary__ to store the column titles (\"Favorite_Icecream\" and \"Sibling_Count\") as dictionary keys, and we store all the row values ('Vanilla', 'Strawberry', etc.) in a list, stored as dictionary values."
   ]
  },
  {
   "cell_type": "code",
   "execution_count": 8,
   "metadata": {},
   "outputs": [
    {
     "data": {
      "text/html": [
       "<div>\n",
       "<style scoped>\n",
       "    .dataframe tbody tr th:only-of-type {\n",
       "        vertical-align: middle;\n",
       "    }\n",
       "\n",
       "    .dataframe tbody tr th {\n",
       "        vertical-align: top;\n",
       "    }\n",
       "\n",
       "    .dataframe thead th {\n",
       "        text-align: right;\n",
       "    }\n",
       "</style>\n",
       "<table border=\"1\" class=\"dataframe\">\n",
       "  <thead>\n",
       "    <tr style=\"text-align: right;\">\n",
       "      <th></th>\n",
       "      <th>Favorite_Icecream</th>\n",
       "      <th>Sibling_Count</th>\n",
       "    </tr>\n",
       "  </thead>\n",
       "  <tbody>\n",
       "    <tr>\n",
       "      <th>0</th>\n",
       "      <td>Vanilla</td>\n",
       "      <td>4</td>\n",
       "    </tr>\n",
       "    <tr>\n",
       "      <th>1</th>\n",
       "      <td>Strawberry</td>\n",
       "      <td>3</td>\n",
       "    </tr>\n",
       "    <tr>\n",
       "      <th>2</th>\n",
       "      <td>Chocolate</td>\n",
       "      <td>1</td>\n",
       "    </tr>\n",
       "    <tr>\n",
       "      <th>3</th>\n",
       "      <td>Vanilla</td>\n",
       "      <td>5</td>\n",
       "    </tr>\n",
       "    <tr>\n",
       "      <th>4</th>\n",
       "      <td>Strawberry</td>\n",
       "      <td>4</td>\n",
       "    </tr>\n",
       "  </tbody>\n",
       "</table>\n",
       "</div>"
      ],
      "text/plain": [
       "  Favorite_Icecream  Sibling_Count\n",
       "0           Vanilla              4\n",
       "1        Strawberry              3\n",
       "2         Chocolate              1\n",
       "3           Vanilla              5\n",
       "4        Strawberry              4"
      ]
     },
     "execution_count": 8,
     "metadata": {},
     "output_type": "execute_result"
    }
   ],
   "source": [
    "new_data = pd.DataFrame({'Favorite_Icecream' : ['Vanilla', 'Strawberry', 'Chocolate', 'Vanilla', 'Strawberry', 'Vanilla',\n",
    "                                               'Strawberry', 'Vanilla'],\n",
    "                        'Sibling_Count' : [4, 3, 1, 5, 4, 3, 5, 2]})\n",
    "new_data.head()"
   ]
  },
  {
   "cell_type": "markdown",
   "metadata": {},
   "source": [
    "From here on out, we can apply the knowledge and techniques we have learned so far to complete the mini report."
   ]
  },
  {
   "cell_type": "markdown",
   "metadata": {},
   "source": [
    "# Mini Report"
   ]
  },
  {
   "cell_type": "markdown",
   "metadata": {},
   "source": [
    "Using the dataset we created above, go ahead and create two plots:\n",
    "- A __barplot__ that shows the distribution of favorite ice cream flavors in the class\n",
    "- A __histogram__ the shows the distribution of number of siblings in the class\n",
    "\n",
    "Your mini report will be completed when you have the following for each plot:\n",
    "- A plot (bar or historam) visualizing the data\n",
    "- Appropriate labels (title, xlabel, etc) for each plot\n",
    "- A small written summary about what the data shows\n",
    "    - For example, what are the minimun and maximum values? What are the top three values? What does it tell us about the students? "
   ]
  },
  {
   "cell_type": "markdown",
   "metadata": {},
   "source": [
    "Once you are done, download your notebook as a .ipynb notebook file, and upload it to the google classroom assignment.\n",
    "\n",
    "__GOOD LUCK! :D__"
   ]
  },
  {
   "cell_type": "code",
   "execution_count": null,
   "metadata": {},
   "outputs": [],
   "source": []
  }
 ],
 "metadata": {
  "kernelspec": {
   "display_name": "Python 3",
   "language": "python",
   "name": "python3"
  },
  "language_info": {
   "codemirror_mode": {
    "name": "ipython",
    "version": 3
   },
   "file_extension": ".py",
   "mimetype": "text/x-python",
   "name": "python",
   "nbconvert_exporter": "python",
   "pygments_lexer": "ipython3",
   "version": "3.7.3"
  }
 },
 "nbformat": 4,
 "nbformat_minor": 4
}
